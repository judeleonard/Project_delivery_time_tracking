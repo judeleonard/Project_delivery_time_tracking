{
 "cells": [
  {
   "cell_type": "markdown",
   "metadata": {
    "id": "Bj97gLm-zlhV"
   },
   "source": [
    "## Content\n",
    "\n",
    "- Spark Installation\n",
    "- Import libraries\n",
    "- Load Data into Spark Rdd\n",
    "- Data Transformation with Spark (Eg. Total hours logged by Projects)"
   ]
  },
  {
   "cell_type": "markdown",
   "metadata": {
    "id": "o5f9STxW0LBM"
   },
   "source": [
    "### Spark Installation"
   ]
  },
  {
   "cell_type": "code",
   "execution_count": 1,
   "metadata": {
    "id": "ocmcGQ0zzgrb"
   },
   "outputs": [],
   "source": [
    "!pip install pyspark -q"
   ]
  },
  {
   "cell_type": "markdown",
   "metadata": {
    "id": "nSdU8QMm0x21"
   },
   "source": [
    "### Import libraries"
   ]
  },
  {
   "cell_type": "code",
   "execution_count": null,
   "metadata": {
    "id": "QLtXf81-zgt_"
   },
   "outputs": [],
   "source": [
    "from pyspark.sql import SparkSession\n",
    "from pyspark.sql.functions import sum"
   ]
  },
  {
   "cell_type": "markdown",
   "metadata": {
    "id": "9-WuwbKO1shH"
   },
   "source": [
    "### Load Data into Spark Rdd"
   ]
  },
  {
   "cell_type": "code",
   "execution_count": 5,
   "metadata": {
    "id": "alJy_luJzgw6"
   },
   "outputs": [],
   "source": [
    "# create spark session state\n",
    "def spark_session():\n",
    "    appName = \"spark transformation\"\n",
    "    spark = SparkSession.builder \\\n",
    "        .appName(appName) \\\n",
    "        .getOrCreate()\n",
    "\n",
    "    return spark\n",
    "\n",
    "\n",
    "# create function to load data conveniently into spark\n",
    "def load_clickup_data(spark, file_path, file_format):\n",
    "  \"\"\"create function to load data conveniently into spark\n",
    "\n",
    "  :param spark: session running spark process\n",
    "  :param file_path: directory path to dataset\n",
    "  :file_format: format of data to transform eg. parquet, csv etc.\n",
    "\n",
    "  \"\"\"\n",
    "  try:\n",
    "      print(\"load_clickup data Started ...\")\n",
    "      df = spark. \\\n",
    "          read. \\\n",
    "          format(file_format). \\\n",
    "          options(header=True). \\\n",
    "          options(inferSchema=True). \\\n",
    "          options(delimiter=','). \\\n",
    "          load(file_path)\n",
    "  except Exception as e:\n",
    "      print(\"Error in the method - load_clickup_data. Please check the Stack Trace. \" + str(e))\n",
    "\n",
    "  else:\n",
    "      print(f\"The input File {file_path} is loaded to the data frame successfully.\")\n",
    "  return df"
   ]
  },
  {
   "cell_type": "markdown",
   "metadata": {
    "id": "ffRRcD4qILws"
   },
   "source": [
    "### Data Transformation with Spark"
   ]
  },
  {
   "cell_type": "code",
   "execution_count": 6,
   "metadata": {
    "id": "uohS3vlHzg02"
   },
   "outputs": [],
   "source": [
    "# init spark session state\n",
    "spark = spark_session()\n",
    "\n",
    "# init clickup data path\n",
    "clickup_data_path = \"/content/sample_data/ClickUp.csv\""
   ]
  },
  {
   "cell_type": "code",
   "execution_count": 7,
   "metadata": {
    "colab": {
     "base_uri": "https://localhost:8080/"
    },
    "id": "BbnCzBcxzg3_",
    "outputId": "d02ef773-a166-43f1-a745-c6e757192958"
   },
   "outputs": [
    {
     "name": "stdout",
     "output_type": "stream",
     "text": [
      "load_clickup data Started ...\n"
     ]
    }
   ],
   "source": [
    "# setup spark dataframe\n",
    "\n",
    "clickup_rdd = load_clickup_data(spark=spark, file_path=clickup_data_path, file_format='csv')"
   ]
  },
  {
   "cell_type": "code",
   "execution_count": 8,
   "metadata": {
    "colab": {
     "base_uri": "https://localhost:8080/"
    },
    "id": "T3KyPcDhLWkF",
    "outputId": "9a15b3d1-e1ae-4a93-a4b7-d2da16807fca"
   },
   "outputs": [
    {
     "name": "stdout",
     "output_type": "stream",
     "text": [
      "+--------------------+-----------+\n",
      "|             Project|Total_Hours|\n",
      "+--------------------+-----------+\n",
      "|Book Localization...|      466.0|\n",
      "| Website Development|      477.0|\n",
      "|     Brand Guideline|      174.5|\n",
      "+--------------------+-----------+\n",
      "\n"
     ]
    }
   ],
   "source": [
    "# run transformation\n",
    "project_hours_df = clickup_rdd.groupBy(\"Project\").agg(sum(\"Hours\").alias(\"Total_Hours\"))\n",
    "\n",
    "# inspect the result\n",
    "project_hours_df.show()"
   ]
  }
 ],
 "metadata": {
  "colab": {
   "provenance": []
  },
  "kernelspec": {
   "display_name": "Python 3",
   "name": "python3"
  },
  "language_info": {
   "name": "python"
  }
 },
 "nbformat": 4,
 "nbformat_minor": 0
}
